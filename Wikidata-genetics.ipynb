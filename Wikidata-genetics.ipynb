{
 "cells": [
  {
   "cell_type": "markdown",
   "metadata": {},
   "source": [
    "First we set the SPARQL endpoint and prefixes to get pretty much the same environment as the [Wikidata SPARQL Query Service](https://query.wikidata.org/), the details aren't important"
   ]
  },
  {
   "cell_type": "code",
   "execution_count": 1,
   "metadata": {
    "scrolled": true
   },
   "outputs": [
    {
     "data": {
      "text/html": [
       "<div class=\"krn-spql\"><div class=\"magic\">Endpoint set to: https://query.wikidata.org/sparql</div><div class=\"magic\">Prefix set: wd: = &lt;http://www.wikidata.org/entity/&gt;</div><div class=\"magic\">Prefix set: wds: = &lt;http://www.wikidata.org/entity/statement/&gt;</div><div class=\"magic\">Prefix set: wdv: = &lt;http://www.wikidata.org/value/&gt;</div><div class=\"magic\">Prefix set: wdt: = &lt;http://www.wikidata.org/prop/direct/&gt;</div><div class=\"magic\">Prefix set: wikibase: = &lt;http://wikiba.se/ontology#&gt;</div><div class=\"magic\">Prefix set: p: = &lt;http://www.wikidata.org/prop/&gt;</div><div class=\"magic\">Prefix set: ps: = &lt;http://www.wikidata.org/prop/statement/&gt;</div><div class=\"magic\">Prefix set: pq: = &lt;http://www.wikidata.org/prop/qualifier/&gt;</div><div class=\"magic\">Prefix set: rdfs: = &lt;http://www.w3.org/2000/01/rdf-schema#&gt;</div><div class=\"magic\">Prefix set: bd: = &lt;http://www.bigdata.com/rdf#&gt;</div></div>"
      ],
      "text/plain": [
       "Endpoint set to: https://query.wikidata.org/sparql\n",
       "Prefix set: wd: = <http://www.wikidata.org/entity/>\n",
       "Prefix set: wds: = <http://www.wikidata.org/entity/statement/>\n",
       "Prefix set: wdv: = <http://www.wikidata.org/value/>\n",
       "Prefix set: wdt: = <http://www.wikidata.org/prop/direct/>\n",
       "Prefix set: wikibase: = <http://wikiba.se/ontology#>\n",
       "Prefix set: p: = <http://www.wikidata.org/prop/>\n",
       "Prefix set: ps: = <http://www.wikidata.org/prop/statement/>\n",
       "Prefix set: pq: = <http://www.wikidata.org/prop/qualifier/>\n",
       "Prefix set: rdfs: = <http://www.w3.org/2000/01/rdf-schema#>\n",
       "Prefix set: bd: = <http://www.bigdata.com/rdf#>\n"
      ]
     },
     "metadata": {},
     "output_type": "display_data"
    }
   ],
   "source": [
    "%endpoint https://query.wikidata.org/sparql\n",
    "%prefix wd: <http://www.wikidata.org/entity/>\n",
    "%prefix wds: <http://www.wikidata.org/entity/statement/>\n",
    "%prefix wdv: <http://www.wikidata.org/value/>\n",
    "%prefix wdt: <http://www.wikidata.org/prop/direct/>\n",
    "%prefix wikibase: <http://wikiba.se/ontology#>\n",
    "%prefix p: <http://www.wikidata.org/prop/>\n",
    "%prefix ps: <http://www.wikidata.org/prop/statement/>\n",
    "%prefix pq: <http://www.wikidata.org/prop/qualifier/>\n",
    "%prefix rdfs: <http://www.w3.org/2000/01/rdf-schema#>\n",
    "%prefix bd: <http://www.bigdata.com/rdf#>"
   ]
  },
  {
   "cell_type": "markdown",
   "metadata": {},
   "source": [
    "# Given a gene, get its homologeneID"
   ]
  },
  {
   "cell_type": "code",
   "execution_count": 6,
   "metadata": {},
   "outputs": [
    {
     "data": {
      "text/html": [
       "<div class=\"krn-spql\"><table><tr class=hdr><th>homologeneID</th></tr><tr class=odd><td class=val>22758</td></tr></table><div class=\"tinfo\">Total: 1, Shown: 1</div></div>"
      ]
     },
     "metadata": {},
     "output_type": "display_data"
    }
   ],
   "source": [
    "SELECT ?homologeneID\n",
    "WHERE\n",
    "{\n",
    "    # wd:Q18247422 corresponds to Add1 in house mouse\n",
    "    wd:Q18247422 wdt:P593 ?homologeneID .\n",
    "    \n",
    "    # an entire URI can be used, if it's wrapped in <>\n",
    "    # <http://www.wikidata.org/entity/Q29723729> wdt:P593 ?homologeneID\n",
    "}"
   ]
  },
  {
   "cell_type": "markdown",
   "metadata": {},
   "source": [
    "# Given a homologeneID, get corresponding genes and species"
   ]
  },
  {
   "cell_type": "code",
   "execution_count": 3,
   "metadata": {},
   "outputs": [
    {
     "data": {
      "text/html": [
       "<div class=\"krn-spql\"><table><tr class=hdr><th>species</th>\n",
       "<th>geneLabel</th>\n",
       "<th>gene_uri</th>\n",
       "<th>tax_uri</th></tr><tr class=odd><td class=val>Mus musculus</td>\n",
       "<td class=val>Add1</td>\n",
       "<td class=val><a href=\"http://www.wikidata.org/entity/Q18247422\" target=\"_other\">http://www.wikidata.org/entity/Q18247422</a></td>\n",
       "<td class=val><a href=\"http://www.wikidata.org/entity/Q83310\" target=\"_other\">http://www.wikidata.org/entity/Q83310</a></td></tr><tr class=even><td class=val>Caenorhabditis elegans</td>\n",
       "<td class=val>add-1</td>\n",
       "<td class=val><a href=\"http://www.wikidata.org/entity/Q29674557\" target=\"_other\">http://www.wikidata.org/entity/Q29674557</a></td>\n",
       "<td class=val><a href=\"http://www.wikidata.org/entity/Q91703\" target=\"_other\">http://www.wikidata.org/entity/Q91703</a></td></tr><tr class=odd><td class=val>Drosophila melanogaster</td>\n",
       "<td class=val>hts</td>\n",
       "<td class=val><a href=\"http://www.wikidata.org/entity/Q29723729\" target=\"_other\">http://www.wikidata.org/entity/Q29723729</a></td>\n",
       "<td class=val><a href=\"http://www.wikidata.org/entity/Q130888\" target=\"_other\">http://www.wikidata.org/entity/Q130888</a></td></tr><tr class=even><td class=val>Brown Rat</td>\n",
       "<td class=val>Add1</td>\n",
       "<td class=val><a href=\"http://www.wikidata.org/entity/Q24395030\" target=\"_other\">http://www.wikidata.org/entity/Q24395030</a></td>\n",
       "<td class=val><a href=\"http://www.wikidata.org/entity/Q184224\" target=\"_other\">http://www.wikidata.org/entity/Q184224</a></td></tr><tr class=odd><td class=val>Homo sapiens</td>\n",
       "<td class=val>ADD1</td>\n",
       "<td class=val><a href=\"http://www.wikidata.org/entity/Q17709877\" target=\"_other\">http://www.wikidata.org/entity/Q17709877</a></td>\n",
       "<td class=val><a href=\"http://www.wikidata.org/entity/Q15978631\" target=\"_other\">http://www.wikidata.org/entity/Q15978631</a></td></tr></table><div class=\"tinfo\">Total: 5, Shown: 5</div></div>"
      ]
     },
     "metadata": {},
     "output_type": "display_data"
    }
   ],
   "source": [
    "SELECT ?species ?geneLabel ?gene_uri ?tax_uri\n",
    "WHERE\n",
    "{\n",
    "    ?gene_uri wdt:P31 wd:Q7187 ; # ?gene instance of gene\n",
    "              wdt:P593 \"22758\" ; # ?gene homologeneID is 22758\n",
    "              wdt:P703 ?tax_uri . # ?gene is found in NCBI taxonomy id ?tax_id\n",
    "    \n",
    "    ?gene_uri rdfs:label ?geneLabel .\n",
    "    \n",
    "    ?tax_uri rdfs:label ?species .\n",
    "    \n",
    "    FILTER(LANG(?geneLabel) = \"en\").\n",
    "    FILTER(LANG(?species) = \"en\").\n",
    "}"
   ]
  },
  {
   "cell_type": "markdown",
   "metadata": {},
   "source": [
    "# Get the name and aliases from a gene URI"
   ]
  },
  {
   "cell_type": "code",
   "execution_count": 9,
   "metadata": {},
   "outputs": [
    {
     "data": {
      "text/html": [
       "<div class=\"krn-spql\"><table><tr class=hdr><th>geneLabel</th>\n",
       "<th>geneAltLabel</th></tr><tr class=odd><td class=val>Add1</td>\n",
       "<td class=val>adducin 1 (alpha); AI256389</td></tr></table><div class=\"tinfo\">Total: 1, Shown: 1</div></div>"
      ]
     },
     "metadata": {},
     "output_type": "display_data"
    }
   ],
   "source": [
    "SELECT ?geneLabel (GROUP_CONCAT(DISTINCT ?geneAltLabel; separator=\"; \") AS ?geneAltLabel)\n",
    "WHERE\n",
    "{\n",
    "    # https://www.wikidata.org/wiki/Q18247422 is Add1 in mouse\n",
    "    wd:Q18247422 rdfs:label ?geneLabel ;\n",
    "                 skos:altLabel ?geneAltLabel .\n",
    "\n",
    "    FILTER(LANG(?geneLabel) = \"en\" &&\n",
    "           LANG(?geneAltLabel) = \"en\").\n",
    "}\n",
    "GROUP BY ?geneLabel"
   ]
  },
  {
   "cell_type": "markdown",
   "metadata": {},
   "source": [
    "# Get the species URI given its name"
   ]
  },
  {
   "cell_type": "code",
   "execution_count": 10,
   "metadata": {},
   "outputs": [
    {
     "data": {
      "text/html": [
       "<div class=\"krn-spql\"><table><tr class=hdr><th>species</th></tr><tr class=odd><td class=val><a href=\"http://www.wikidata.org/entity/Q83310\" target=\"_other\">http://www.wikidata.org/entity/Q83310</a></td></tr><tr class=even><td class=val><a href=\"http://www.wikidata.org/entity/Q83310\" target=\"_other\">http://www.wikidata.org/entity/Q83310</a></td></tr></table><div class=\"tinfo\">Total: 2, Shown: 2</div></div>"
      ]
     },
     "metadata": {},
     "output_type": "display_data"
    }
   ],
   "source": [
    "SELECT ?species\n",
    "WHERE\n",
    "{\n",
    "    ?species wdt:P1843 ?taxonCommon.\n",
    "    FILTER(LANG(?taxonCommon) = \"en\" &&\n",
    "           LCASE(STR(?taxonCommon)) = \"house mouse\").\n",
    "}"
   ]
  },
  {
   "cell_type": "markdown",
   "metadata": {},
   "source": [
    "# Given species name and gene name, find the gene URI"
   ]
  },
  {
   "cell_type": "code",
   "execution_count": 16,
   "metadata": {},
   "outputs": [
    {
     "data": {
      "text/html": [
       "<div class=\"krn-spql\"><table><tr class=hdr><th>gene</th></tr><tr class=odd><td class=val><a href=\"http://www.wikidata.org/entity/Q18247422\" target=\"_other\">http://www.wikidata.org/entity/Q18247422</a></td></tr></table><div class=\"tinfo\">Total: 1, Shown: 1</div></div>"
      ]
     },
     "metadata": {},
     "output_type": "display_data"
    }
   ],
   "source": [
    "SELECT DISTINCT ?gene\n",
    "WHERE\n",
    "{\n",
    "    ?species wdt:P1843 ?taxonCommon.\n",
    "    FILTER(LANG(?taxonCommon) = \"en\" &&\n",
    "           LCASE(STR(?taxonCommon)) = \"house mouse\").\n",
    "\n",
    "    ?gene wdt:P31 wd:Q7187 ;\n",
    "          rdfs:label ?geneLabel ;\n",
    "          wdt:P703 ?species .\n",
    "\n",
    "    FILTER(STR(?geneLabel) = \"Add1\" &&\n",
    "           LANG(?geneLabel) = \"en\").\n",
    "}"
   ]
  }
 ],
 "metadata": {
  "kernelspec": {
   "display_name": "SPARQL",
   "language": "sparql",
   "name": "sparql"
  },
  "language_info": {
   "codemirror_mode": {
    "name": "sparql"
   },
   "mimetype": "application/sparql-query",
   "name": "sparql",
   "pygments_lexer": "sparql-nb"
  }
 },
 "nbformat": 4,
 "nbformat_minor": 2
}

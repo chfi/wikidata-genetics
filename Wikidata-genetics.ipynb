{
 "cells": [
  {
   "cell_type": "code",
   "execution_count": 1,
   "metadata": {},
   "outputs": [
    {
     "data": {
      "text/html": [
       "<div class=\"krn-spql\"><div class=\"magic\">Endpoint set to: https://query.wikidata.org/sparql</div><div class=\"magic\">Prefix set: wd: = &lt;http://www.wikidata.org/entity/&gt;</div><div class=\"magic\">Prefix set: wds: = &lt;http://www.wikidata.org/entity/statement/&gt;</div><div class=\"magic\">Prefix set: wdv: = &lt;http://www.wikidata.org/value/&gt;</div><div class=\"magic\">Prefix set: wdt: = &lt;http://www.wikidata.org/prop/direct/&gt;</div><div class=\"magic\">Prefix set: wikibase: = &lt;http://wikiba.se/ontology#&gt;</div><div class=\"magic\">Prefix set: p: = &lt;http://www.wikidata.org/prop/&gt;</div><div class=\"magic\">Prefix set: ps: = &lt;http://www.wikidata.org/prop/statement/&gt;</div><div class=\"magic\">Prefix set: pq: = &lt;http://www.wikidata.org/prop/qualifier/&gt;</div><div class=\"magic\">Prefix set: rdfs: = &lt;http://www.w3.org/2000/01/rdf-schema#&gt;</div><div class=\"magic\">Prefix set: bd: = &lt;http://www.bigdata.com/rdf#&gt;</div></div>"
      ],
      "text/plain": [
       "Endpoint set to: https://query.wikidata.org/sparql\n",
       "Prefix set: wd: = <http://www.wikidata.org/entity/>\n",
       "Prefix set: wds: = <http://www.wikidata.org/entity/statement/>\n",
       "Prefix set: wdv: = <http://www.wikidata.org/value/>\n",
       "Prefix set: wdt: = <http://www.wikidata.org/prop/direct/>\n",
       "Prefix set: wikibase: = <http://wikiba.se/ontology#>\n",
       "Prefix set: p: = <http://www.wikidata.org/prop/>\n",
       "Prefix set: ps: = <http://www.wikidata.org/prop/statement/>\n",
       "Prefix set: pq: = <http://www.wikidata.org/prop/qualifier/>\n",
       "Prefix set: rdfs: = <http://www.w3.org/2000/01/rdf-schema#>\n",
       "Prefix set: bd: = <http://www.bigdata.com/rdf#>\n"
      ]
     },
     "metadata": {},
     "output_type": "display_data"
    }
   ],
   "source": [
    "%endpoint https://query.wikidata.org/sparql\n",
    "%prefix wd: <http://www.wikidata.org/entity/>\n",
    "%prefix wds: <http://www.wikidata.org/entity/statement/>\n",
    "%prefix wdv: <http://www.wikidata.org/value/>\n",
    "%prefix wdt: <http://www.wikidata.org/prop/direct/>\n",
    "%prefix wikibase: <http://wikiba.se/ontology#>\n",
    "%prefix p: <http://www.wikidata.org/prop/>\n",
    "%prefix ps: <http://www.wikidata.org/prop/statement/>\n",
    "%prefix pq: <http://www.wikidata.org/prop/qualifier/>\n",
    "%prefix rdfs: <http://www.w3.org/2000/01/rdf-schema#>\n",
    "%prefix bd: <http://www.bigdata.com/rdf#>"
   ]
  },
  {
   "cell_type": "code",
   "execution_count": 2,
   "metadata": {},
   "outputs": [
    {
     "data": {
      "text/html": [
       "<div class=\"krn-spql\"><table><tr class=hdr><th>gene</th>\n",
       "<th>tax_id</th></tr><tr class=odd><td class=val><a href=\"http://www.wikidata.org/entity/Q17709877\" target=\"_other\">http://www.wikidata.org/entity/Q17709877</a></td>\n",
       "<td class=val><a href=\"http://www.wikidata.org/entity/Q15978631\" target=\"_other\">http://www.wikidata.org/entity/Q15978631</a></td></tr><tr class=even><td class=val><a href=\"http://www.wikidata.org/entity/Q18247422\" target=\"_other\">http://www.wikidata.org/entity/Q18247422</a></td>\n",
       "<td class=val><a href=\"http://www.wikidata.org/entity/Q83310\" target=\"_other\">http://www.wikidata.org/entity/Q83310</a></td></tr><tr class=odd><td class=val><a href=\"http://www.wikidata.org/entity/Q24395030\" target=\"_other\">http://www.wikidata.org/entity/Q24395030</a></td>\n",
       "<td class=val><a href=\"http://www.wikidata.org/entity/Q184224\" target=\"_other\">http://www.wikidata.org/entity/Q184224</a></td></tr><tr class=even><td class=val><a href=\"http://www.wikidata.org/entity/Q29674557\" target=\"_other\">http://www.wikidata.org/entity/Q29674557</a></td>\n",
       "<td class=val><a href=\"http://www.wikidata.org/entity/Q91703\" target=\"_other\">http://www.wikidata.org/entity/Q91703</a></td></tr><tr class=odd><td class=val><a href=\"http://www.wikidata.org/entity/Q29723729\" target=\"_other\">http://www.wikidata.org/entity/Q29723729</a></td>\n",
       "<td class=val><a href=\"http://www.wikidata.org/entity/Q130888\" target=\"_other\">http://www.wikidata.org/entity/Q130888</a></td></tr></table><div class=\"tinfo\">Total: 5, Shown: 5</div></div>"
      ]
     },
     "metadata": {},
     "output_type": "display_data"
    }
   ],
   "source": [
    "SELECT ?gene ?tax_id\n",
    "WHERE\n",
    "{\n",
    "    ?gene wdt:P31 wd:Q7187 ; # ?gene instance of gene\n",
    "          wdt:P593 \"22758\" ; # ?gene homologeneID is 22758\n",
    "          wdt:P703 ?tax_id . # ?gene is found in NCBI taxonomy id ?tax_id\n",
    "}"
   ]
  },
  {
   "cell_type": "code",
   "execution_count": null,
   "metadata": {},
   "outputs": [],
   "source": []
  }
 ],
 "metadata": {
  "kernelspec": {
   "display_name": "SPARQL",
   "language": "sparql",
   "name": "sparql"
  },
  "language_info": {
   "codemirror_mode": {
    "name": "sparql"
   },
   "mimetype": "application/sparql-query",
   "name": "sparql",
   "pygments_lexer": "sparql-nb"
  }
 },
 "nbformat": 4,
 "nbformat_minor": 2
}

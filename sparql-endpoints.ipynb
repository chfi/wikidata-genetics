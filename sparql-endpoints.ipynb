{
 "cells": [
  {
   "cell_type": "markdown",
   "metadata": {},
   "source": [
    "# Some SPARQL queries\n",
    "<div style=\"color: red; font-style: italic;\">Note: when viewed through <span style=\"font-style: normal; font-weight: bold;\">nbviewer</span> or converted through <span style=\"font-style: normal; font-weight: bold;\">nbconvert</span> this notebook looks slightly different than when rendered by a running <em>sparqlkernel</em>. See a <a href=\"http://htmlpreview.github.io/?https://github.com/paulovn/sparql-kernel/blob/master/examples/sparql-endpoints.html\">converted version</a> for an example more similar to the actual look in a \"live\" kernel.</div>\n",
    "\n",
    "\n",
    "We are going to use some of the [Public SPARQL endpoints](https://www.w3.org/wiki/SparqlEndpoints). Let's look first at the set of available magics"
   ]
  },
  {
   "cell_type": "code",
   "execution_count": 1,
   "metadata": {},
   "outputs": [
    {
     "data": {
      "text/html": [
       "<div class=\"krn-spql\"><div class=\"magic-help\">Available magics:<br/>%auth  %display  %endpoint  %format  %graph  %header  %lang  %log  %lsmagics  %outfile  %prefix  %qparam  %show<br/><br/>%auth (basic|digest|none) &lt;username&gt; &lt;passwd&gt; : send HTTP authentication<br/>%display raw | table [withtypes] | diagram [svg|png] [withliterals] : set display format<br/>%endpoint &lt;url&gt; : set SPARQL endpoint. **REQUIRED**<br/>%format JSON | N3 | XML | any | default : set requested result format<br/>%graph &lt;uri&gt; : set default graph for the queries<br/>%header &lt;string&gt; | OFF : add a persistent header line before the query, or delete all defined headers<br/>%lang &lt;lang&gt; [...] | default | all : language(s) preferred for labels<br/>%log critical | error | warning | info | debug : set logging level<br/>%lsmagics  : list all magics<br/>%outfile &lt;filename&gt; | NONE : save raw output to a file (use &quot;%d&quot; in name to add cell number, &quot;NONE&quot; to cancel saving)<br/>%prefix &lt;name&gt; [&lt;uri&gt;] : set (or delete) a persistent URI prefix for all queries<br/>%qparam &lt;name&gt; [&lt;value&gt;] : add (or delete) a persistent custom parameter to the endpoint query<br/>%show &lt;n&gt; | all : maximum number of shown results</div></div>"
      ],
      "text/plain": [
       "Available magics:\n",
       "%auth  %display  %endpoint  %format  %graph  %header  %lang  %log  %lsmagics  %outfile  %prefix  %qparam  %show\n",
       "\n",
       "%auth (basic|digest|none) <username> <passwd> : send HTTP authentication\n",
       "%display raw | table [withtypes] | diagram [svg|png] [withliterals] : set display format\n",
       "%endpoint <url> : set SPARQL endpoint. **REQUIRED**\n",
       "%format JSON | N3 | XML | any | default : set requested result format\n",
       "%graph <uri> : set default graph for the queries\n",
       "%header <string> | OFF : add a persistent header line before the query, or delete all defined headers\n",
       "%lang <lang> [...] | default | all : language(s) preferred for labels\n",
       "%log critical | error | warning | info | debug : set logging level\n",
       "%lsmagics  : list all magics\n",
       "%outfile <filename> | NONE : save raw output to a file (use \"%d\" in name to add cell number, \"NONE\" to cancel saving)\n",
       "%prefix <name> [<uri>] : set (or delete) a persistent URI prefix for all queries\n",
       "%qparam <name> [<value>] : add (or delete) a persistent custom parameter to the endpoint query\n",
       "%show <n> | all : maximum number of shown results\n"
      ]
     },
     "metadata": {},
     "output_type": "display_data"
    }
   ],
   "source": [
    "%lsmagics"
   ]
  },
  {
   "cell_type": "markdown",
   "metadata": {},
   "source": [
    "We set a few default options via those magics."
   ]
  },
  {
   "cell_type": "code",
   "execution_count": 2,
   "metadata": {},
   "outputs": [
    {
     "data": {
      "text/html": [
       "<div class=\"krn-spql\"><div class=\"magic\">Result maximum size: 80</div><div class=\"magic\">Return format: DEFAULT</div><div class=\"magic\">Display: table</div></div>"
      ],
      "text/plain": [
       "Result maximum size: 80\n",
       "Return format: DEFAULT\n",
       "Display: table\n"
      ]
     },
     "metadata": {},
     "output_type": "display_data"
    }
   ],
   "source": [
    "# Modify output format\n",
    "# Don't show more than 80 results (event if more are fetched)\n",
    "%show 80\n",
    "\n",
    "# Request whatever format is appropriate for the query type\n",
    "%format default\n",
    "\n",
    "# Activate table output\n",
    "%display table"
   ]
  },
  {
   "cell_type": "markdown",
   "metadata": {},
   "source": [
    "## DBPedia\n",
    "\n",
    "Note that DBPedia has a set of [predefined namespace prefixes](http://es.dbpedia.org/sparql?nsdecl) that we can use without the need to define them in the query."
   ]
  },
  {
   "cell_type": "markdown",
   "metadata": {},
   "source": [
    "### Simple queries\n",
    "\n",
    "Find a few predicates that can point to people"
   ]
  },
  {
   "cell_type": "code",
   "execution_count": 3,
   "metadata": {},
   "outputs": [
    {
     "data": {
      "text/html": [
       "<div class=\"krn-spql\"><div class=\"magic\">Endpoint set to: http://dbpedia.org/sparql</div><div class=\"magic\">Display: table<br/>Show Types: on</div></div>"
      ],
      "text/plain": [
       "Endpoint set to: http://dbpedia.org/sparql\n",
       "Display: table\n",
       "Show Types: on\n"
      ]
     },
     "metadata": {},
     "output_type": "display_data"
    },
    {
     "data": {
      "text/html": [
       "<div class=\"krn-spql\"><table><tr class=hdr><th>property</th><th>type</th></tr><tr class=odd><td class=val><a href=\"http://www.w3.org/2002/07/owl#differentFrom\" target=\"_other\">http://www.w3.org/2002/07/owl#differentFrom</a></td><td class=typ>uri</td></tr><tr class=even><td class=val><a href=\"http://www.w3.org/2000/01/rdf-schema#seeAlso\" target=\"_other\">http://www.w3.org/2000/01/rdf-schema#seeAlso</a></td><td class=typ>uri</td></tr><tr class=odd><td class=val><a href=\"http://www.w3.org/2002/07/owl#sameAs\" target=\"_other\">http://www.w3.org/2002/07/owl#sameAs</a></td><td class=typ>uri</td></tr><tr class=even><td class=val><a href=\"http://dbpedia.org/ontology/wikiPageWikiLink\" target=\"_other\">http://dbpedia.org/ontology/wikiPageWikiLink</a></td><td class=typ>uri</td></tr><tr class=odd><td class=val><a href=\"http://dbpedia.org/ontology/wikiPageRedirects\" target=\"_other\">http://dbpedia.org/ontology/wikiPageRedirects</a></td><td class=typ>uri</td></tr><tr class=even><td class=val><a href=\"http://dbpedia.org/ontology/wikiPageDisambiguates\" target=\"_other\">http://dbpedia.org/ontology/wikiPageDisambiguates</a></td><td class=typ>uri</td></tr><tr class=odd><td class=val><a href=\"http://dbpedia.org/property/musicalguests\" target=\"_other\">http://dbpedia.org/property/musicalguests</a></td><td class=typ>uri</td></tr><tr class=even><td class=val><a href=\"http://dbpedia.org/property/avpm\" target=\"_other\">http://dbpedia.org/property/avpm</a></td><td class=typ>uri</td></tr><tr class=odd><td class=val><a href=\"http://dbpedia.org/property/name\" target=\"_other\">http://dbpedia.org/property/name</a></td><td class=typ>uri</td></tr><tr class=even><td class=val><a href=\"http://xmlns.com/foaf/0.1/primaryTopic\" target=\"_other\">http://xmlns.com/foaf/0.1/primaryTopic</a></td><td class=typ>uri</td></tr></table><div class=\"tinfo\">Total: 10, Shown: 10</div></div>"
      ]
     },
     "metadata": {},
     "output_type": "display_data"
    }
   ],
   "source": [
    "%endpoint http://dbpedia.org/sparql\n",
    "%display table withtypes\n",
    "\n",
    "SELECT DISTINCT ?property\n",
    "WHERE {\n",
    "   ?s ?property ?person .\n",
    "   ?person rdf:type foaf:Person .\n",
    "}\n",
    "LIMIT 10"
   ]
  },
  {
   "cell_type": "markdown",
   "metadata": {},
   "source": [
    "Let's use the `dbp:successor` predicate to find chains of at least 4 persons that form a sequence. Since it can produce a nice graph, let's output it as a diagram.\n",
    "\n",
    "*(note: formerly using the `dbp:before` property, but that one seems not to be available anymore for DBPedia entries)*"
   ]
  },
  {
   "cell_type": "code",
   "execution_count": 5,
   "metadata": {},
   "outputs": [
    {
     "data": {
      "text/html": [
       "<div class=\"krn-spql\"><div class=\"magic\">Endpoint set to: http://dbpedia.org/sparql</div><div class=\"magic\">Display: svg</div></div>"
      ],
      "text/plain": [
       "Endpoint set to: http://dbpedia.org/sparql\n",
       "Display: svg\n"
      ]
     },
     "metadata": {},
     "output_type": "display_data"
    },
    {
     "data": {
      "text/html": [
       "<div class=\"krn-spql\"><div class=\"krn-error\"><span class=\"title\">Error:</span> Response processing error: Exception while drawing graph: FileNotFoundError(2, &quot;No such file or directory: 'dot'&quot;)</div></div>"
      ],
      "text/plain": [
       "Error: Response processing error: Exception while drawing graph: FileNotFoundError(2, \"No such file or directory: 'dot'\")"
      ]
     },
     "metadata": {},
     "output_type": "display_data"
    }
   ],
   "source": [
    "%endpoint http://dbpedia.org/sparql\n",
    "%display diagram\n",
    "\n",
    "CONSTRUCT {\n",
    "    ?p1 dbp:successor ?p2 .\n",
    "    ?p2 dbp:successor ?p3 .\n",
    "    ?p3 dbp:successor ?p4 .\n",
    "}\n",
    "WHERE {\n",
    "    ?p1 rdf:type foaf:Person .\n",
    "    ?p1 dbp:successor ?p2 .\n",
    "    ?p2 dbp:successor ?p3 .\n",
    "    ?p3 dbp:successor ?p4 .\n",
    "}\n",
    "LIMIT 50"
   ]
  },
  {
   "cell_type": "markdown",
   "metadata": {},
   "source": [
    "A `DESCRIBE` query, also represented as a diagram."
   ]
  },
  {
   "cell_type": "code",
   "execution_count": null,
   "metadata": {},
   "outputs": [],
   "source": [
    "%endpoint http://dbpedia.org/sparql\n",
    "%display diagram\n",
    "%lang es\n",
    "PREFIX rdfs: <http://www.w3.org/2000/01/rdf-schema#>\n",
    "DESCRIBE <http://dbpedia.org/resource/Asturias>\n",
    "LIMIT 10"
   ]
  },
  {
   "cell_type": "markdown",
   "metadata": {},
   "source": [
    "### Elaborate queries"
   ]
  },
  {
   "cell_type": "markdown",
   "metadata": {},
   "source": [
    "#### Example 1\n",
    "This one is taken from [SPARQL By Example](https://www.w3.org/2009/Talks/0615-qbe/#q5):\n",
    "\n",
    "* Find out all countries without coastline and population greater than 15M. \n",
    "* Ordered by population\n",
    "\n",
    "_Modified: former `type:LandlockedCountries` property moved to `yago:WikicatLandlockedCountries`_"
   ]
  },
  {
   "cell_type": "code",
   "execution_count": null,
   "metadata": {
    "scrolled": true
   },
   "outputs": [],
   "source": [
    "%endpoint http://dbpedia.org/sparql\n",
    "%format default\n",
    "%display table \n",
    "%lang all\n",
    "\n",
    "PREFIX rdfs: <http://www.w3.org/2000/01/rdf-schema#>        \n",
    "PREFIX yago: <http://dbpedia.org/class/yago/>\n",
    "PREFIX prop: <http://dbpedia.org/property/>\n",
    "SELECT ?country_name ?population\n",
    "WHERE {\n",
    "    ?country a yago:WikicatLandlockedCountries ;\n",
    "             rdfs:label ?country_name ;\n",
    "             prop:populationEstimate ?population .\n",
    "    FILTER (?population > 15000000) .\n",
    "    FILTER (langMatches(lang(?country_name), \"EN\")) .\n",
    "} ORDER BY DESC(?population)"
   ]
  },
  {
   "cell_type": "markdown",
   "metadata": {},
   "source": [
    "#### Example 2\n",
    "Where was Henrik Ibsen born? (taken from a [StackOverflow answer](http://stackoverflow.com/a/21859115))."
   ]
  },
  {
   "cell_type": "code",
   "execution_count": null,
   "metadata": {},
   "outputs": [],
   "source": [
    "%endpoint http://dbpedia.org/sparql\n",
    "%display table withtypes\n",
    "%lang all\n",
    "\n",
    "PREFIX dbpedia-owl: <http://dbpedia.org/ontology/>\n",
    "SELECT ?label { \n",
    " dbr:Henrik_Ibsen\n",
    "   dbpedia-owl:birthPlace\n",
    "     [ a dbpedia-owl:Country ;\n",
    "       rdfs:label ?label ]\n",
    " FILTER langMatches(lang(?label),\"en\")\n",
    "}"
   ]
  },
  {
   "cell_type": "markdown",
   "metadata": {},
   "source": [
    "## Wikidata\n",
    "Let's use now the [wikidata](http://wikidata.org) SPARQL endpoint query service. You can read its [user manual](https://www.mediawiki.org/wiki/Wikidata_query_service/User_Manual). There is also a page with many [example queries](https://www.mediawiki.org/wiki/Wikibase/Indexing/SPARQL_Query_Examples)"
   ]
  },
  {
   "cell_type": "markdown",
   "metadata": {},
   "source": [
    "### Example 1\n",
    "This was taken from [Causes of death for US presidents](http://ramiro.org/notebook/us-presidents-causes-of-death/)"
   ]
  },
  {
   "cell_type": "code",
   "execution_count": null,
   "metadata": {},
   "outputs": [],
   "source": [
    "%endpoint http://query.wikidata.org/sparql\n",
    "%display table\n",
    "%show all\n",
    "\n",
    "PREFIX wikibase: <http://wikiba.se/ontology#>\n",
    "PREFIX wd: <http://www.wikidata.org/entity/>\n",
    "PREFIX wdt: <http://www.wikidata.org/prop/direct/>\n",
    "PREFIX rdfs: <http://www.w3.org/2000/01/rdf-schema#>\n",
    "SELECT ?president ?cause ?dob ?dod WHERE {\n",
    "    ?pid wdt:P39 wd:Q11696 .\n",
    "    ?pid wdt:P509 ?cid .\n",
    "    ?pid wdt:P569 ?dob .\n",
    "    ?pid wdt:P570 ?dod .\n",
    "\n",
    "    OPTIONAL {\n",
    "        ?pid rdfs:label ?president filter (lang(?president) = \"en\") .\n",
    "    }\n",
    "    OPTIONAL {\n",
    "        ?cid rdfs:label ?cause filter (lang(?cause) = \"en\") .\n",
    "    }\n",
    "}"
   ]
  },
  {
   "cell_type": "markdown",
   "metadata": {},
   "source": [
    "### Example 2\n",
    "Birthdays for today. We fetch only the oldest 20 (depending on the date, there could be many). Example from the [wikidata example list](https://www.mediawiki.org/wiki/Wikibase/Indexing/SPARQL_Query_Examples#Whose_birthday_is_today.3F)"
   ]
  },
  {
   "cell_type": "code",
   "execution_count": null,
   "metadata": {},
   "outputs": [],
   "source": [
    "%endpoint http://query.wikidata.org/sparql\n",
    "\n",
    "SELECT ?entityS ?entity (year(?date) as ?year) \n",
    "WHERE \n",
    "{\n",
    "    ?entityS wdt:P569 ?date .\n",
    "    SERVICE wikibase:label {\n",
    "        bd:serviceParam wikibase:language \"en\" .\n",
    "        ?entityS rdfs:label ?entity\n",
    "    } \n",
    "    FILTER (datatype(?date) = xsd:dateTime && month(?date) = month(now()) && day(?date) = day(now()))\n",
    "}\n",
    "ORDER BY ASC(?year)\n",
    "LIMIT 20"
   ]
  },
  {
   "cell_type": "markdown",
   "metadata": {},
   "source": [
    "### Example 3\n",
    "\n",
    "Who discovered the most asteroids?. Taken also from the [example page](https://www.mediawiki.org/wiki/Wikibase/Indexing/SPARQL_Query_Examples#Who_discovered_the_most_asteroids.3F)"
   ]
  },
  {
   "cell_type": "code",
   "execution_count": null,
   "metadata": {},
   "outputs": [],
   "source": [
    "%endpoint http://query.wikidata.org/sparql\n",
    "%display table\n",
    "SELECT ?discoverer ?name (COUNT(?asteroid) AS ?count)\n",
    "WHERE\n",
    "{\n",
    "    ?asteroid wdt:P31 wd:Q3863 .\n",
    "    ?asteroid wdt:P61 ?discoverer .\n",
    "    SERVICE wikibase:label {\n",
    "        bd:serviceParam wikibase:language \"en\" .\n",
    "        ?discoverer rdfs:label ?name\n",
    "    }\n",
    "}\n",
    "GROUP BY ?discoverer ?name\n",
    "ORDER BY DESC(?count)\n",
    "LIMIT 10"
   ]
  },
  {
   "cell_type": "markdown",
   "metadata": {},
   "source": [
    "## Linkedmdb\n",
    "\n",
    "[linkedMDB](http://data.linkedmdb.org/) contains an RDF database for Movies. It also has a web-based [query interface](http://data.linkedmdb.org/snorql/)\n",
    "\n",
    "Let's find movie titles with the `ring` word in it."
   ]
  },
  {
   "cell_type": "code",
   "execution_count": null,
   "metadata": {},
   "outputs": [],
   "source": [
    "%endpoint http://data.linkedmdb.org/sparql\n",
    "%format json\n",
    "%display table\n",
    "\n",
    "PREFIX rdfs: <http://www.w3.org/2000/01/rdf-schema#>\n",
    "PREFIX rdf: <http://www.w3.org/1999/02/22-rdf-syntax-ns#>\n",
    "PREFIX movie: <http://data.linkedmdb.org/resource/movie/>\n",
    "SELECT ?movie ?label\n",
    "WHERE {\n",
    "    ?movie rdf:type movie:film .\n",
    "    ?movie rdfs:label ?label .\n",
    "    FILTER regex(?label, \"ring\", \"i\")\n",
    "} LIMIT 10\n"
   ]
  },
  {
   "cell_type": "markdown",
   "metadata": {},
   "source": [
    "<div style=\"border-top: 1px gray solid; font-family: Cursive, sans-serif;\">Version: 1.2 (2017-03-31)<br/>\n",
    "Author: Paulo Villegas</div>"
   ]
  },
  {
   "cell_type": "code",
   "execution_count": null,
   "metadata": {},
   "outputs": [],
   "source": []
  },
  {
   "cell_type": "code",
   "execution_count": null,
   "metadata": {},
   "outputs": [],
   "source": []
  }
 ],
 "metadata": {
  "kernelspec": {
   "display_name": "SPARQL",
   "language": "sparql",
   "name": "sparql"
  },
  "language_info": {
   "codemirror_mode": {
    "name": "sparql"
   },
   "mimetype": "application/sparql-query",
   "name": "sparql",
   "pygments_lexer": "sparql-nb"
  }
 },
 "nbformat": 4,
 "nbformat_minor": 1
}
